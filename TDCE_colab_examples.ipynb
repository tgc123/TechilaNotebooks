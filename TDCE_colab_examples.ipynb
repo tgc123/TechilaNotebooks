{
  "nbformat": 4,
  "nbformat_minor": 0,
  "metadata": {
    "colab": {
      "name": "Install_and_Test_Techila.ipynb",
      "version": "0.3.2",
      "provenance": [],
      "collapsed_sections": [],
      "toc_visible": true
    },
    "kernelspec": {
      "name": "python3",
      "display_name": "Python 3"
    }
  },
  "cells": [
    {
      "cell_type": "markdown",
      "metadata": {
        "id": "Qyj-CAD_3zGB",
        "colab_type": "text"
      },
      "source": [
        "# Using Techila Distributed Computing Engine in Google Cloud from Colab"
      ]
    },
    {
      "cell_type": "markdown",
      "metadata": {
        "id": "prik6Kcv4maP",
        "colab_type": "text"
      },
      "source": [
        "**Launch TDCE at Google Marketplace: https://console.cloud.google.com/marketplace/details/techila-public/techila**\n",
        "\n",
        "**When the deployment is completed, copy the IP and password information below and execute the cell.**"
      ]
    },
    {
      "cell_type": "code",
      "metadata": {
        "id": "tKRufDtI4ZV5",
        "colab_type": "code",
        "colab": {}
      },
      "source": [
        "import urllib\n",
        "\n",
        "my_server_ip = '' #@param {type:\"string\"}\n",
        "my_password = ''  #@param {type: \"string\"}\n",
        "my_password = urllib.parse.quote(my_password)\n",
        "\n",
        "!wget --post-data=\"login=admin&password={my_password}\" --no-check-certificate https://{my_server_ip}/gce_downloadsdk.php -O techilasdk.zip\n",
        "!unzip techilasdk.zip\n",
        "\n",
        "%cd /content/techila/lib/python3\n",
        "!python setup.py install\n",
        "!echo \"JVMPATH=/usr/lib/jvm/default-java/lib/server/libjvm.so\" > /content/techila/lib/TechilaDLL.conf"
      ],
      "execution_count": 0,
      "outputs": []
    },
    {
      "cell_type": "markdown",
      "metadata": {
        "id": "40m2GSr148Mw",
        "colab_type": "text"
      },
      "source": [
        "**Select the number of worker nodes below and execute the cell to start them.**"
      ]
    },
    {
      "cell_type": "code",
      "metadata": {
        "id": "punU6qaeyykw",
        "colab_type": "code",
        "colab": {}
      },
      "source": [
        "import techila\n",
        "\n",
        "worker_count=50 #@param {type:\"slider\", min:0, max:100}\n",
        "techila.init()\n",
        "techila.deploy_workers(worker_count)"
      ],
      "execution_count": 0,
      "outputs": []
    },
    {
      "cell_type": "markdown",
      "metadata": {
        "id": "xbY-Mnr6JwrF",
        "colab_type": "text"
      },
      "source": [
        "**Execute the cell below to run VaR example in TDCE.**\n",
        "\n",
        "**More information about this example can be found here:**\n",
        "\n",
        "http://www.techilatechnologies.com/help/techila-distributed-computing-engine/code-examples-matlab-var.html"
      ]
    },
    {
      "cell_type": "code",
      "metadata": {
        "id": "WdrG1Y3dHYsI",
        "colab_type": "code",
        "colab": {}
      },
      "source": [
        "%cd /content/techila/examples/python/Advanced/VaR/\n",
        "import run_VaR\n",
        "\n",
        "%matplotlib inline\n",
        "run_VaR.run_demo()"
      ],
      "execution_count": 0,
      "outputs": []
    },
    {
      "cell_type": "markdown",
      "metadata": {
        "id": "UMLRV9fm3iUa",
        "colab_type": "text"
      },
      "source": [
        "**Execute the cell below to run Optionpricing example in TDCE.**\n",
        "\n",
        "**More information about this example can be found here:**\n",
        "\n",
        "https://www.youtube.com/watch?v=5zALrtFTeso"
      ]
    },
    {
      "cell_type": "code",
      "metadata": {
        "id": "NLgN8oASueAT",
        "colab_type": "code",
        "colab": {}
      },
      "source": [
        "%cd /content/techila/examples/python/Advanced/Asian/\n",
        "import runOptionpricing\n",
        "\n",
        "montecarlo_paths=20000 #@param {type:\"slider\", min:5000, max:100000, step:5000}\n",
        "spot_price_points=9 #@param {type:\"slider\", min:5, max:21}\n",
        "volatility_points=9 #@param {type:\"slider\", min:5, max:21}\n",
        "\n",
        "%matplotlib inline\n",
        "runOptionpricing.runDemo(montecarlo_paths, spot_price_points, volatility_points)"
      ],
      "execution_count": 0,
      "outputs": []
    },
    {
      "cell_type": "markdown",
      "metadata": {
        "id": "RRc2zPzZ6GwT",
        "colab_type": "text"
      },
      "source": [
        "**Remove the workers after the computations are completed by executing the cell below.**"
      ]
    },
    {
      "cell_type": "code",
      "metadata": {
        "id": "aDr-8N286EHL",
        "colab_type": "code",
        "colab": {}
      },
      "source": [
        "import techila\n",
        "worker_count=0\n",
        "techila.init()\n",
        "techila.deploy_workers(worker_count)"
      ],
      "execution_count": 0,
      "outputs": []
    },
    {
      "cell_type": "code",
      "metadata": {
        "id": "PiBxlr9fUfni",
        "colab_type": "code",
        "colab": {}
      },
      "source": [
        ""
      ],
      "execution_count": 0,
      "outputs": []
    }
  ]
}